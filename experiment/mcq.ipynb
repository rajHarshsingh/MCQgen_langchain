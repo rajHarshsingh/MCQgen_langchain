{
 "cells": [
  {
   "cell_type": "code",
   "execution_count": 2,
   "metadata": {},
   "outputs": [],
   "source": [
    "import os\n",
    "import json\n",
    "import pandas as pd\n",
    "import traceback\n",
    "from dotenv import load_dotenv\n",
    "from langchain.chat_models import ChatOpenAI"
   ]
  },
  {
   "cell_type": "code",
   "execution_count": 3,
   "metadata": {},
   "outputs": [],
   "source": [
    "load_dotenv()\n",
    "key = os.getenv('OPENAI_API_KEY')"
   ]
  },
  {
   "cell_type": "code",
   "execution_count": 5,
   "metadata": {},
   "outputs": [
    {
     "name": "stderr",
     "output_type": "stream",
     "text": [
      "e:\\Personal\\LLM\\langchain_mcqgen\\venv\\lib\\site-packages\\langchain_core\\_api\\deprecation.py:139: LangChainDeprecationWarning: The class `ChatOpenAI` was deprecated in LangChain 0.0.10 and will be removed in 0.3.0. An updated version of the class exists in the langchain-openai package and should be used instead. To use it run `pip install -U langchain-openai` and import as `from langchain_openai import ChatOpenAI`.\n",
      "  warn_deprecated(\n"
     ]
    }
   ],
   "source": [
    "llm = ChatOpenAI(openai_api_key=key, model_name=\"gpt-3.5-turbo\", temperature=0.5)"
   ]
  },
  {
   "cell_type": "code",
   "execution_count": 6,
   "metadata": {},
   "outputs": [],
   "source": [
    "from langchain.llms import OpenAI\n",
    "from langchain.prompts import PromptTemplate\n",
    "from langchain.chains import LLMChain, SequentialChain\n",
    "from langchain.callbacks import get_openai_callback\n",
    "import PyPDF2"
   ]
  },
  {
   "cell_type": "code",
   "execution_count": 9,
   "metadata": {},
   "outputs": [],
   "source": [
    "TEMPLATE=\"\"\"\n",
    "Text: {text}\n",
    "You are an expert MCQ maker GIven the above text, it is your job to\\\n",
    "create a quiz of {number} multiple choice questions for {subject} students in {tone} tone.\n",
    "Make sure the questions are not repeated and check all the questionsto be conforming the text as well.\n",
    "Make sure to format your response like RESPONSE_JSON and use it as a guide.\\\n",
    "Ensure to make {number} MCQs\n",
    "### RESPONSE_JSON\n",
    "{response_json}\n",
    "\"\"\""
   ]
  },
  {
   "cell_type": "code",
   "execution_count": 10,
   "metadata": {},
   "outputs": [],
   "source": [
    "RESPONSE_JSON = {\n",
    "    \"1\": {\n",
    "        \"mcq\": \"multiple choice question\",\n",
    "        \"options\": {\n",
    "            'a': 'choice here',\n",
    "            'b': 'choice here',\n",
    "            'c': 'choice here',\n",
    "            'd': 'choice here'\n",
    "        },\n",
    "        'correct': 'correct answer',\n",
    "    },\n",
    "    \"2\": {\n",
    "        \"mcq\": \"multiple choice question\",\n",
    "        \"options\": {\n",
    "            'a': 'choice here',\n",
    "            'b': 'choice here',\n",
    "            'c': 'choice here',\n",
    "            'd': 'choice here'\n",
    "        },\n",
    "        'correct': 'correct answer',\n",
    "    },\n",
    "    \"3\": {\n",
    "        \"mcq\": \"multiple choice question\",\n",
    "        \"options\": {\n",
    "            'a': 'choice here',\n",
    "            'b': 'choice here',\n",
    "            'c': 'choice here',\n",
    "            'd': 'choice here'\n",
    "        },\n",
    "        'correct': 'correct answer',\n",
    "    },\n",
    "    \"4\": {\n",
    "        \"mcq\": \"multiple choice question\",\n",
    "        \"options\": {\n",
    "            'a': 'choice here',\n",
    "            'b': 'choice here',\n",
    "            'c': 'choice here',\n",
    "            'd': 'choice here'\n",
    "        },\n",
    "        'correct': 'correct answer',\n",
    "    },\n",
    "    \"5\": {\n",
    "        \"mcq\": \"multiple choice question\",\n",
    "        \"options\": {\n",
    "            'a': 'choice here',\n",
    "            'b': 'choice here',\n",
    "            'c': 'choice here',\n",
    "            'd': 'choice here'\n",
    "        },\n",
    "        'correct': 'correct answer',\n",
    "    }\n",
    "}"
   ]
  },
  {
   "cell_type": "code",
   "execution_count": 17,
   "metadata": {},
   "outputs": [],
   "source": [
    "quiz_generation_prompt = PromptTemplate(\n",
    "    template=TEMPLATE,\n",
    "    input_variables=['text','number','subject','tone','response_json']\n",
    ")"
   ]
  },
  {
   "cell_type": "code",
   "execution_count": 12,
   "metadata": {},
   "outputs": [
    {
     "name": "stderr",
     "output_type": "stream",
     "text": [
      "e:\\Personal\\LLM\\langchain_mcqgen\\venv\\lib\\site-packages\\langchain_core\\_api\\deprecation.py:139: LangChainDeprecationWarning: The class `LLMChain` was deprecated in LangChain 0.1.17 and will be removed in 0.3.0. Use RunnableSequence, e.g., `prompt | llm` instead.\n",
      "  warn_deprecated(\n"
     ]
    }
   ],
   "source": [
    "quiz_chain = LLMChain(\n",
    "    llm=llm,\n",
    "    prompt=quiz_generation_prompt,\n",
    "    output_key='quiz',\n",
    "    verbose=True\n",
    ")"
   ]
  },
  {
   "cell_type": "code",
   "execution_count": 13,
   "metadata": {},
   "outputs": [],
   "source": [
    "# a second task will be setup to review the questions framed\n",
    "\n",
    "TEMPLATE2 = \"\"\"\n",
    "You are an expert english grammarian and writer. Given a Multiple Choice Quiz for {subject} students,\\\n",
    "You need to evaluate the complexity of the question and give a complete analysis of the quiz. Only use at max 50 words for the analysis.\\\n",
    "If the quiz is not at par with the cognitive and analytical abilities of the students,\\\n",
    "update the quiz questions which needs to be changes and change the tone such that it perfectly fits the student abilities.\n",
    "Quiz MCQs:\n",
    "{quiz}\n",
    "\n",
    "Check from an expert English writer of the above quiz:\n",
    "\"\"\""
   ]
  },
  {
   "cell_type": "code",
   "execution_count": 14,
   "metadata": {},
   "outputs": [],
   "source": [
    "quiz_evaluation_prompt = PromptTemplate(\n",
    "    template=TEMPLATE2,\n",
    "    input_variables=['subject','quiz']\n",
    ")"
   ]
  },
  {
   "cell_type": "code",
   "execution_count": 15,
   "metadata": {},
   "outputs": [],
   "source": [
    "review_chain = LLMChain(\n",
    "    llm=llm,\n",
    "    prompt=quiz_evaluation_prompt,\n",
    "    output_key='review',\n",
    "    verbose=True\n",
    ")"
   ]
  },
  {
   "cell_type": "code",
   "execution_count": 18,
   "metadata": {},
   "outputs": [],
   "source": [
    "# combining both the chains using SequentialChain\n",
    "generate_evaluate_chain = SequentialChain(\n",
    "    chains=[quiz_chain, review_chain],\n",
    "    input_variables=['text','number','subject','tone','response_json'],\n",
    "    output_variables=['quiz','review'],\n",
    "    verbose=True\n",
    ")"
   ]
  },
  {
   "cell_type": "code",
   "execution_count": 20,
   "metadata": {},
   "outputs": [
    {
     "name": "stdout",
     "output_type": "stream",
     "text": [
      "The Reserve Bank of India, abbreviated as RBI, is India's central bank and regulatory body responsible for regulation of the Indian banking system. Owned by the Ministry of Finance, Government of India, it is responsible for the control, issue and maintaining supply of the Indian rupee. It also manages the country's main payment systems and works to promote its economic development. Bharatiya Reserve Bank Note Mudran (BRBNM) is a specialised division of RBI through which it prints and mints Indian currency notes (INR) in two of its currency printing presses located in Mysore (Karnataka; Southern India) and Salboni (West Bengal; Eastern India). The RBI, along with the Indian Banks' Association, established the National Payments Corporation of India to promote and regulate the payment and settlement systems in India. Deposit Insurance and Credit Guarantee Corporation was established by RBI as one of its specialized division for the purpose of providing insurance of deposits and guaranteeing of credit facilities to all Indian banks.\n",
      "\n",
      "Until the Monetary Policy Committee was established in 2016, it also had full control over monetary policy in the country. It commenced its operations on 1 April 1935 in accordance with the Reserve Bank of India Act, 1934. The original share capital was divided into shares of 100 each fully paid. The RBI was nationalised on 1 January 1949, almost a year and a half after India's independence.\n",
      "\n",
      "The overall direction of the RBI lies with the 21-member central board of directors, composed of: the governor; four deputy governors; two finance ministry representatives (usually the Economic Affairs Secretary and the Financial Services Secretary); ten government-nominated directors; and four directors who represent local boards for Mumbai, Kolkata, Chennai, and Delhi. Each of these local boards consists of five members who represent regional interests and the interests of co-operative and indigenous banks.\n"
     ]
    }
   ],
   "source": [
    "with open(r\"E:\\Personal\\LLM\\langchain_mcqgen\\data.txt\", \"r\") as f:\n",
    "    TEXT = f.read()\n",
    "\n",
    "print(TEXT)"
   ]
  },
  {
   "cell_type": "code",
   "execution_count": 21,
   "metadata": {},
   "outputs": [
    {
     "name": "stderr",
     "output_type": "stream",
     "text": [
      "e:\\Personal\\LLM\\langchain_mcqgen\\venv\\lib\\site-packages\\langchain_core\\_api\\deprecation.py:139: LangChainDeprecationWarning: The method `Chain.__call__` was deprecated in langchain 0.1.0 and will be removed in 0.3.0. Use invoke instead.\n",
      "  warn_deprecated(\n"
     ]
    },
    {
     "name": "stdout",
     "output_type": "stream",
     "text": [
      "\n",
      "\n",
      "\u001b[1m> Entering new SequentialChain chain...\u001b[0m\n",
      "\n",
      "\n",
      "\u001b[1m> Entering new LLMChain chain...\u001b[0m\n",
      "Prompt after formatting:\n",
      "\u001b[32;1m\u001b[1;3m\n",
      "Text: The Reserve Bank of India, abbreviated as RBI, is India's central bank and regulatory body responsible for regulation of the Indian banking system. Owned by the Ministry of Finance, Government of India, it is responsible for the control, issue and maintaining supply of the Indian rupee. It also manages the country's main payment systems and works to promote its economic development. Bharatiya Reserve Bank Note Mudran (BRBNM) is a specialised division of RBI through which it prints and mints Indian currency notes (INR) in two of its currency printing presses located in Mysore (Karnataka; Southern India) and Salboni (West Bengal; Eastern India). The RBI, along with the Indian Banks' Association, established the National Payments Corporation of India to promote and regulate the payment and settlement systems in India. Deposit Insurance and Credit Guarantee Corporation was established by RBI as one of its specialized division for the purpose of providing insurance of deposits and guaranteeing of credit facilities to all Indian banks.\n",
      "\n",
      "Until the Monetary Policy Committee was established in 2016, it also had full control over monetary policy in the country. It commenced its operations on 1 April 1935 in accordance with the Reserve Bank of India Act, 1934. The original share capital was divided into shares of 100 each fully paid. The RBI was nationalised on 1 January 1949, almost a year and a half after India's independence.\n",
      "\n",
      "The overall direction of the RBI lies with the 21-member central board of directors, composed of: the governor; four deputy governors; two finance ministry representatives (usually the Economic Affairs Secretary and the Financial Services Secretary); ten government-nominated directors; and four directors who represent local boards for Mumbai, Kolkata, Chennai, and Delhi. Each of these local boards consists of five members who represent regional interests and the interests of co-operative and indigenous banks.\n",
      "You are an expert MCQ maker GIven the above text, it is your job tocreate a quiz of 5 multiple choice questions for economics students in simple tone.\n",
      "Make sure the questions are not repeated and check all the questionsto be conforming the text as well.\n",
      "Make sure to format your response like RESPONSE_JSON and use it as a guide.Ensure to make 5 MCQs\n",
      "### RESPONSE_JSON\n",
      "{\"1\": {\"mcq\": \"multiple choice question\", \"options\": {\"a\": \"choice here\", \"b\": \"choice here\", \"c\": \"choice here\", \"d\": \"choice here\"}, \"correct\": \"correct answer\"}, \"2\": {\"mcq\": \"multiple choice question\", \"options\": {\"a\": \"choice here\", \"b\": \"choice here\", \"c\": \"choice here\", \"d\": \"choice here\"}, \"correct\": \"correct answer\"}, \"3\": {\"mcq\": \"multiple choice question\", \"options\": {\"a\": \"choice here\", \"b\": \"choice here\", \"c\": \"choice here\", \"d\": \"choice here\"}, \"correct\": \"correct answer\"}, \"4\": {\"mcq\": \"multiple choice question\", \"options\": {\"a\": \"choice here\", \"b\": \"choice here\", \"c\": \"choice here\", \"d\": \"choice here\"}, \"correct\": \"correct answer\"}, \"5\": {\"mcq\": \"multiple choice question\", \"options\": {\"a\": \"choice here\", \"b\": \"choice here\", \"c\": \"choice here\", \"d\": \"choice here\"}, \"correct\": \"correct answer\"}}\n",
      "\u001b[0m\n",
      "\n",
      "\u001b[1m> Finished chain.\u001b[0m\n",
      "\n",
      "\n",
      "\u001b[1m> Entering new LLMChain chain...\u001b[0m\n",
      "Prompt after formatting:\n",
      "\u001b[32;1m\u001b[1;3m\n",
      "You are an expert english grammarian and writer. Given a Multiple Choice Quiz for economics students,You need to evaluate the complexity of the question and give a complete analysis of the quiz. Only use at max 50 words for the analysis.If the quiz is not at par with the cognitive and analytical abilities of the students,update the quiz questions which needs to be changes and change the tone such that it perfectly fits the student abilities.\n",
      "Quiz MCQs:\n",
      "{\n",
      "    \"1\": {\n",
      "        \"mcq\": \"Who is responsible for the regulation of the Indian banking system?\",\n",
      "        \"options\": {\n",
      "            \"a\": \"Ministry of Finance\",\n",
      "            \"b\": \"Reserve Bank of India\",\n",
      "            \"c\": \"National Payments Corporation of India\",\n",
      "            \"d\": \"Indian Banks' Association\"\n",
      "        },\n",
      "        \"correct\": \"b\"\n",
      "    },\n",
      "    \"2\": {\n",
      "        \"mcq\": \"Where are the two currency printing presses of RBI located?\",\n",
      "        \"options\": {\n",
      "            \"a\": \"Mumbai and Delhi\",\n",
      "            \"b\": \"Chennai and Kolkata\",\n",
      "            \"c\": \"Mysore and Salboni\",\n",
      "            \"d\": \"Ahmedabad and Jaipur\"\n",
      "        },\n",
      "        \"correct\": \"c\"\n",
      "    },\n",
      "    \"3\": {\n",
      "        \"mcq\": \"When was the Reserve Bank of India nationalized?\",\n",
      "        \"options\": {\n",
      "            \"a\": \"1 April 1935\",\n",
      "            \"b\": \"1 January 1949\",\n",
      "            \"c\": \"15 August 1947\",\n",
      "            \"d\": \"26 January 1950\"\n",
      "        },\n",
      "        \"correct\": \"b\"\n",
      "    },\n",
      "    \"4\": {\n",
      "        \"mcq\": \"Who represents the regional interests in the local boards of RBI?\",\n",
      "        \"options\": {\n",
      "            \"a\": \"Government-nominated directors\",\n",
      "            \"b\": \"Deputy governors\",\n",
      "            \"c\": \"Finance ministry representatives\",\n",
      "            \"d\": \"Members of co-operative and indigenous banks\"\n",
      "        },\n",
      "        \"correct\": \"d\"\n",
      "    },\n",
      "    \"5\": {\n",
      "        \"mcq\": \"What is the purpose of the Deposit Insurance and Credit Guarantee Corporation established by RBI?\",\n",
      "        \"options\": {\n",
      "            \"a\": \"To print and mint Indian currency notes\",\n",
      "            \"b\": \"To regulate the payment and settlement systems\",\n",
      "            \"c\": \"To provide insurance of deposits and guarantee credit facilities\",\n",
      "            \"d\": \"To promote economic development\"\n",
      "        },\n",
      "        \"correct\": \"c\"\n",
      "    }\n",
      "}\n",
      "\n",
      "Check from an expert English writer of the above quiz:\n",
      "\u001b[0m\n",
      "\n",
      "\u001b[1m> Finished chain.\u001b[0m\n",
      "\n",
      "\u001b[1m> Finished chain.\u001b[0m\n",
      "Tokens Used: 1716\n",
      "\tPrompt Tokens: 1253\n",
      "\tCompletion Tokens: 463\n",
      "Successful Requests: 2\n",
      "Total Cost (USD): $0.0028055\n"
     ]
    }
   ],
   "source": [
    "# to setup token usage tracking \n",
    "with get_openai_callback() as call:\n",
    "    response = generate_evaluate_chain(\n",
    "        {\n",
    "            'text':TEXT,\n",
    "            'number':5,\n",
    "            'subject':'economics',\n",
    "            'tone':\"simple\",\n",
    "            'response_json': json.dumps(RESPONSE_JSON)\n",
    "        }\n",
    "    )\n",
    "    print(call)"
   ]
  },
  {
   "cell_type": "code",
   "execution_count": 28,
   "metadata": {},
   "outputs": [
    {
     "data": {
      "text/plain": [
       "{'1': {'mcq': 'Who is responsible for the regulation of the Indian banking system?',\n",
       "  'options': {'a': 'Ministry of Finance',\n",
       "   'b': 'Reserve Bank of India',\n",
       "   'c': 'National Payments Corporation of India',\n",
       "   'd': \"Indian Banks' Association\"},\n",
       "  'correct': 'b'},\n",
       " '2': {'mcq': 'Where are the two currency printing presses of RBI located?',\n",
       "  'options': {'a': 'Mumbai and Delhi',\n",
       "   'b': 'Chennai and Kolkata',\n",
       "   'c': 'Mysore and Salboni',\n",
       "   'd': 'Ahmedabad and Jaipur'},\n",
       "  'correct': 'c'},\n",
       " '3': {'mcq': 'When was the Reserve Bank of India nationalized?',\n",
       "  'options': {'a': '1 April 1935',\n",
       "   'b': '1 January 1949',\n",
       "   'c': '15 August 1947',\n",
       "   'd': '26 January 1950'},\n",
       "  'correct': 'b'},\n",
       " '4': {'mcq': 'Who represents the regional interests in the local boards of RBI?',\n",
       "  'options': {'a': 'Government-nominated directors',\n",
       "   'b': 'Deputy governors',\n",
       "   'c': 'Finance ministry representatives',\n",
       "   'd': 'Members of co-operative and indigenous banks'},\n",
       "  'correct': 'd'},\n",
       " '5': {'mcq': 'What is the purpose of the Deposit Insurance and Credit Guarantee Corporation established by RBI?',\n",
       "  'options': {'a': 'To print and mint Indian currency notes',\n",
       "   'b': 'To regulate the payment and settlement systems',\n",
       "   'c': 'To provide insurance of deposits and guarantee credit facilities',\n",
       "   'd': 'To promote economic development'},\n",
       "  'correct': 'c'}}"
      ]
     },
     "execution_count": 28,
     "metadata": {},
     "output_type": "execute_result"
    }
   ],
   "source": [
    "json.loads(response.get('quiz'))"
   ]
  },
  {
   "cell_type": "code",
   "execution_count": 29,
   "metadata": {},
   "outputs": [
    {
     "data": {
      "text/plain": [
       "'The quiz questions are suitable for economics students as they test knowledge on Indian banking system and RBI. The questions are clear and concise, with options covering relevant topics. No changes needed as the complexity matches student abilities.'"
      ]
     },
     "execution_count": 29,
     "metadata": {},
     "output_type": "execute_result"
    }
   ],
   "source": [
    "response.get('review')"
   ]
  }
 ],
 "metadata": {
  "kernelspec": {
   "display_name": "Python 3",
   "language": "python",
   "name": "python3"
  },
  "language_info": {
   "codemirror_mode": {
    "name": "ipython",
    "version": 3
   },
   "file_extension": ".py",
   "mimetype": "text/x-python",
   "name": "python",
   "nbconvert_exporter": "python",
   "pygments_lexer": "ipython3",
   "version": "3.10.14"
  }
 },
 "nbformat": 4,
 "nbformat_minor": 2
}
